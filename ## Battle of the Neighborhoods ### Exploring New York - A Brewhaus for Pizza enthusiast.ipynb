{
 "cells": [
  {
   "cell_type": "markdown",
   "metadata": {},
   "source": [
    "## Battle of the Neighborhoods\n",
    "### Exploring New York - A Brewhaus for Pizza enthusiast\n"
   ]
  },
  {
   "cell_type": "markdown",
   "metadata": {},
   "source": [
    "### Introduction/Business Problem\n",
    "\n",
    "As an expert in selecting locations for new business venues my services have been retained to assist in locating the perfect neighborhood for a new beer garden concept. Beerizza Inc. has perfected a brew whose full bouquet of aromas and flavors are best enjoyed alongside a pizza. Unfortuately for Beerizza Inc., while master brewers, the expertise in pizza making is lacking. \n",
    "\n",
    "In order to minimize costs of running the business whilst still attracting the right clientele, Beerizza Inc. would like to open a brewery without a kitchen but also completely welcoming of pizza delivery or bringing your own pizza, or other food of your choosing. \n",
    "\n",
    "The request from my new business partner Beerizza Inc. is to deliver them a layout of parts of the city that will have the appropriate clientle and a density of take out restaruants within the vicinity of the new beer garden so that customers can freely bring their own foodstuffs, with a particularly strong focus on pizza shop density. The customer would also like to avoid saturated markets where there are other beer gardens."
   ]
  },
  {
   "cell_type": "markdown",
   "metadata": {},
   "source": [
    "### Data\n",
    "\n",
    "#### What data will be used\n",
    "\n",
    "To build our model we will be using the following data sources (final links to sources will be added later once the final sources have been determined):\n",
    "- Foursquae API venue data for exploring venues in various neighborhoods and boroughs\n",
    "- New York City neighborhood data that includes bouroughs and longitude and latitude data to assist in exploring neighboorhoods\n",
    "- New York City Geospace data for visualization \n",
    "\n",
    "#### Methodology\n",
    "\n",
    "The first step will be to collect all of the data and create the relevant dataframes using the sources above \n",
    "Next we will map the city and overlay restuarants with an eye towards density of pizza shops\n",
    "We will try and identify additional features that may be usefull in location selection (proximity to public transport for example, or nightlife.)\n",
    "\n",
    "The questions that we will resolve to meet Beerizza Inc. requirements\n",
    "1. What is the best neighboorhood for the new beer garden with respenct to pizza density\n",
    "2. Where is restuarant density highest (in case the beer customer prefers other foods)\n",
    "3. where is the pizza shop grave yard that shold be avoided completely.\n",
    "\n",
    "We will use clustering to segment the data to help us find the best location.\n"
   ]
  },
  {
   "cell_type": "code",
   "execution_count": null,
   "metadata": {},
   "outputs": [],
   "source": []
  }
 ],
 "metadata": {
  "kernelspec": {
   "display_name": "Python 3",
   "language": "python",
   "name": "python3"
  },
  "language_info": {
   "codemirror_mode": {
    "name": "ipython",
    "version": 3
   },
   "file_extension": ".py",
   "mimetype": "text/x-python",
   "name": "python",
   "nbconvert_exporter": "python",
   "pygments_lexer": "ipython3",
   "version": "3.7.4"
  }
 },
 "nbformat": 4,
 "nbformat_minor": 2
}
